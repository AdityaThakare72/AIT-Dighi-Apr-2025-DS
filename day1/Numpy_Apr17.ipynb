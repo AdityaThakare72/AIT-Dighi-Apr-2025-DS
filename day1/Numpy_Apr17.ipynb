{
 "cells": [
  {
   "cell_type": "code",
   "execution_count": 1,
   "id": "1943ac61-6fdf-4003-b73c-39240b092a0d",
   "metadata": {},
   "outputs": [],
   "source": [
    "import numpy as np"
   ]
  },
  {
   "cell_type": "code",
   "execution_count": 2,
   "id": "4d980f0a-0d74-42b3-84dd-8eea1f6ec72b",
   "metadata": {},
   "outputs": [],
   "source": [
    "arr = np.array([12, 24, 56, 78, 100])"
   ]
  },
  {
   "cell_type": "code",
   "execution_count": 3,
   "id": "f9caa6ad-1b5f-4698-9242-9323e9e39617",
   "metadata": {},
   "outputs": [
    {
     "data": {
      "text/plain": [
       "array([ 12,  24,  56,  78, 100])"
      ]
     },
     "execution_count": 3,
     "metadata": {},
     "output_type": "execute_result"
    }
   ],
   "source": [
    "arr"
   ]
  },
  {
   "cell_type": "code",
   "execution_count": 47,
   "id": "8425bca2-fab6-413d-96c7-b29828109b97",
   "metadata": {},
   "outputs": [],
   "source": [
    "arr1 = np.array([12, 33.44, \"Raj\",True, ])"
   ]
  },
  {
   "cell_type": "code",
   "execution_count": 49,
   "id": "458bd0fc-bf96-4f59-9ad8-ae1424fa7156",
   "metadata": {},
   "outputs": [
    {
     "data": {
      "text/plain": [
       "array(['12', '33.44', 'Raj', 'True'], dtype='<U32')"
      ]
     },
     "execution_count": 49,
     "metadata": {},
     "output_type": "execute_result"
    }
   ],
   "source": [
    "arr1"
   ]
  },
  {
   "cell_type": "code",
   "execution_count": 51,
   "id": "54082415-09eb-4ffa-af73-90c2b8ca6b9e",
   "metadata": {},
   "outputs": [
    {
     "data": {
      "text/plain": [
       "dtype('<U32')"
      ]
     },
     "execution_count": 51,
     "metadata": {},
     "output_type": "execute_result"
    }
   ],
   "source": [
    "arr1.dtype"
   ]
  },
  {
   "cell_type": "code",
   "execution_count": 53,
   "id": "0b9a1839-e153-4a9a-bcd2-c42a0d048088",
   "metadata": {},
   "outputs": [
    {
     "data": {
      "text/plain": [
       "numpy.ndarray"
      ]
     },
     "execution_count": 53,
     "metadata": {},
     "output_type": "execute_result"
    }
   ],
   "source": [
    "type(arr1)"
   ]
  },
  {
   "cell_type": "code",
   "execution_count": 55,
   "id": "961e20da-c6b9-4520-a8bb-7676e575cbf9",
   "metadata": {},
   "outputs": [
    {
     "data": {
      "text/plain": [
       "'33.44'"
      ]
     },
     "execution_count": 55,
     "metadata": {},
     "output_type": "execute_result"
    }
   ],
   "source": [
    "arr1[1]"
   ]
  },
  {
   "cell_type": "code",
   "execution_count": 57,
   "id": "c4fe0fb7-d390-4745-a828-7650437d67d7",
   "metadata": {},
   "outputs": [],
   "source": [
    "arr1[1] = 100"
   ]
  },
  {
   "cell_type": "code",
   "execution_count": 59,
   "id": "c3758d22-088d-4087-b2d2-3a1847a5f253",
   "metadata": {},
   "outputs": [
    {
     "data": {
      "text/plain": [
       "array(['12', '100', 'Raj', 'True'], dtype='<U32')"
      ]
     },
     "execution_count": 59,
     "metadata": {},
     "output_type": "execute_result"
    }
   ],
   "source": [
    "arr1"
   ]
  },
  {
   "cell_type": "code",
   "execution_count": 61,
   "id": "48457c00-99a7-411e-9097-d16c5e55be0d",
   "metadata": {},
   "outputs": [],
   "source": [
    "import time"
   ]
  },
  {
   "cell_type": "code",
   "execution_count": 63,
   "id": "679add48-0757-45ff-b2cd-ceda1fedfa69",
   "metadata": {},
   "outputs": [
    {
     "data": {
      "text/plain": [
       "1744877809.9582143"
      ]
     },
     "execution_count": 63,
     "metadata": {},
     "output_type": "execute_result"
    }
   ],
   "source": [
    "time.time()"
   ]
  },
  {
   "cell_type": "code",
   "execution_count": 65,
   "id": "ee232453-ec70-4ae0-a41d-8fe1036ffc5b",
   "metadata": {},
   "outputs": [],
   "source": [
    "values = 1000000\n",
    "\n",
    "l1 = list(range(values))\n",
    "\n",
    "arr = np.array(l1)"
   ]
  },
  {
   "cell_type": "code",
   "execution_count": 67,
   "id": "7027799a-9ee9-4a98-9cab-9fe59ac092e9",
   "metadata": {},
   "outputs": [
    {
     "name": "stdout",
     "output_type": "stream",
     "text": [
      "time for list -> 0.025986909866333008\n"
     ]
    }
   ],
   "source": [
    "start_time = time.time()\n",
    "newl = [i * 2 for i in l1]\n",
    "required_time = time.time() - start_time\n",
    "print(f\"time for list -> {required_time}\")"
   ]
  },
  {
   "cell_type": "code",
   "execution_count": 69,
   "id": "d14959ee-04bd-4611-9327-8b998f00925b",
   "metadata": {},
   "outputs": [
    {
     "name": "stdout",
     "output_type": "stream",
     "text": [
      "time for array -> 0.025986909866333008\n"
     ]
    }
   ],
   "source": [
    "start_time = time.time()\n",
    "newarr = arr * 2\n",
    "required_time1 = time.time() - start_time\n",
    "print(f\"time for array -> {required_time}\")"
   ]
  },
  {
   "cell_type": "code",
   "execution_count": 71,
   "id": "c7331236-484b-480f-99a3-904aae73f98b",
   "metadata": {},
   "outputs": [
    {
     "data": {
      "text/plain": [
       "8.023925206124852"
      ]
     },
     "execution_count": 71,
     "metadata": {},
     "output_type": "execute_result"
    }
   ],
   "source": [
    "required_time/ required_time1 "
   ]
  },
  {
   "cell_type": "code",
   "execution_count": 73,
   "id": "50f3d1a1-e8f2-4056-99b9-20ebc7fb0b25",
   "metadata": {},
   "outputs": [],
   "source": [
    "# arange"
   ]
  },
  {
   "cell_type": "code",
   "execution_count": 75,
   "id": "ceb5c6cd-ee58-4280-9419-499268349180",
   "metadata": {},
   "outputs": [
    {
     "data": {
      "text/plain": [
       "array([0, 1, 2, 3, 4, 5, 6, 7, 8, 9])"
      ]
     },
     "execution_count": 75,
     "metadata": {},
     "output_type": "execute_result"
    }
   ],
   "source": [
    "np.arange(10)"
   ]
  },
  {
   "cell_type": "code",
   "execution_count": 77,
   "id": "060c2e8e-7d6d-472e-8ab7-e0cfea8a96b8",
   "metadata": {},
   "outputs": [
    {
     "data": {
      "text/plain": [
       "array([ 5. , 10.5, 16. , 21.5, 27. , 32.5, 38. , 43.5, 49. , 54.5, 60. ,\n",
       "       65.5, 71. , 76.5, 82. , 87.5, 93. , 98.5])"
      ]
     },
     "execution_count": 77,
     "metadata": {},
     "output_type": "execute_result"
    }
   ],
   "source": [
    "np.arange(5, 101, 5.5)"
   ]
  },
  {
   "cell_type": "code",
   "execution_count": 79,
   "id": "6bc005e5-3503-49b5-9090-d6d152504a00",
   "metadata": {},
   "outputs": [
    {
     "data": {
      "text/plain": [
       "array([-5. , -4.5, -4. , -3.5, -3. , -2.5, -2. , -1.5, -1. , -0.5,  0. ,\n",
       "        0.5,  1. ,  1.5,  2. ,  2.5,  3. ,  3.5,  4. ,  4.5])"
      ]
     },
     "execution_count": 79,
     "metadata": {},
     "output_type": "execute_result"
    }
   ],
   "source": [
    "np.arange(-5, 5, 0.5)"
   ]
  },
  {
   "cell_type": "code",
   "execution_count": 81,
   "id": "7ddc3782-8a8c-4b6e-9685-3237890d3ab9",
   "metadata": {},
   "outputs": [
    {
     "data": {
      "text/plain": [
       "array([0., 0., 0., 0., 0., 0., 0., 0., 0., 0.])"
      ]
     },
     "execution_count": 81,
     "metadata": {},
     "output_type": "execute_result"
    }
   ],
   "source": [
    "np.zeros(10)"
   ]
  },
  {
   "cell_type": "code",
   "execution_count": 83,
   "id": "bd17304b-329f-4d06-8cd4-55a5142accfe",
   "metadata": {},
   "outputs": [
    {
     "data": {
      "text/plain": [
       "array([1., 1., 1., 1., 1., 1., 1., 1., 1., 1.])"
      ]
     },
     "execution_count": 83,
     "metadata": {},
     "output_type": "execute_result"
    }
   ],
   "source": [
    "np.ones(10)"
   ]
  },
  {
   "cell_type": "code",
   "execution_count": 85,
   "id": "ca27c0ee-7e61-40b1-be02-81d5fa0f89f4",
   "metadata": {},
   "outputs": [],
   "source": [
    "r1 = np.array([12, 34, 5, 7, 10])"
   ]
  },
  {
   "cell_type": "code",
   "execution_count": 87,
   "id": "330bf123-45a6-462f-9c85-054bc7d8e883",
   "metadata": {},
   "outputs": [
    {
     "data": {
      "text/plain": [
       "array([12, 34,  5,  7, 10])"
      ]
     },
     "execution_count": 87,
     "metadata": {},
     "output_type": "execute_result"
    }
   ],
   "source": [
    "r1"
   ]
  },
  {
   "cell_type": "code",
   "execution_count": 89,
   "id": "f9899347-71d6-4a85-839d-9ad09c3dcf9d",
   "metadata": {},
   "outputs": [
    {
     "data": {
      "text/plain": [
       "array([34,  5,  7])"
      ]
     },
     "execution_count": 89,
     "metadata": {},
     "output_type": "execute_result"
    }
   ],
   "source": [
    "r1[1: 4]"
   ]
  },
  {
   "cell_type": "code",
   "execution_count": 91,
   "id": "c48ed206-0a88-4a72-bcea-8889ffd2642d",
   "metadata": {},
   "outputs": [
    {
     "data": {
      "text/plain": [
       "5"
      ]
     },
     "execution_count": 91,
     "metadata": {},
     "output_type": "execute_result"
    }
   ],
   "source": [
    "r1.size"
   ]
  },
  {
   "cell_type": "code",
   "execution_count": 93,
   "id": "f2c14a03-a22b-42c7-b003-16b54451c688",
   "metadata": {},
   "outputs": [
    {
     "data": {
      "text/plain": [
       "1"
      ]
     },
     "execution_count": 93,
     "metadata": {},
     "output_type": "execute_result"
    }
   ],
   "source": [
    "r1.ndim"
   ]
  },
  {
   "cell_type": "code",
   "execution_count": 95,
   "id": "88e01706-e622-4586-b9bb-5cc3efa3df62",
   "metadata": {},
   "outputs": [
    {
     "data": {
      "text/plain": [
       "(5,)"
      ]
     },
     "execution_count": 95,
     "metadata": {},
     "output_type": "execute_result"
    }
   ],
   "source": [
    "r1.shape"
   ]
  },
  {
   "cell_type": "code",
   "execution_count": 97,
   "id": "692ce3dd-2d35-4a02-a738-3b134a676025",
   "metadata": {},
   "outputs": [],
   "source": [
    "# 2d arrays"
   ]
  },
  {
   "cell_type": "code",
   "execution_count": 99,
   "id": "04db0bdd-033b-465e-a87e-f2629abc18f0",
   "metadata": {},
   "outputs": [],
   "source": [
    "arr = np.array([[1, 2, 3], [4, 5, 6], [12, 13, 10], [1, 5, 2]])"
   ]
  },
  {
   "cell_type": "code",
   "execution_count": 101,
   "id": "93917176-746c-40b4-8a61-745036c4b8eb",
   "metadata": {},
   "outputs": [
    {
     "data": {
      "text/plain": [
       "array([[ 1,  2,  3],\n",
       "       [ 4,  5,  6],\n",
       "       [12, 13, 10],\n",
       "       [ 1,  5,  2]])"
      ]
     },
     "execution_count": 101,
     "metadata": {},
     "output_type": "execute_result"
    }
   ],
   "source": [
    "arr"
   ]
  },
  {
   "cell_type": "code",
   "execution_count": 103,
   "id": "a19129f6-358c-483b-9778-f1994436f0d7",
   "metadata": {},
   "outputs": [
    {
     "data": {
      "text/plain": [
       "2"
      ]
     },
     "execution_count": 103,
     "metadata": {},
     "output_type": "execute_result"
    }
   ],
   "source": [
    "arr.ndim"
   ]
  },
  {
   "cell_type": "code",
   "execution_count": 105,
   "id": "ee50cc10-7fb6-4313-aabb-e89aa38b6218",
   "metadata": {},
   "outputs": [
    {
     "data": {
      "text/plain": [
       "(4, 3)"
      ]
     },
     "execution_count": 105,
     "metadata": {},
     "output_type": "execute_result"
    }
   ],
   "source": [
    "arr.shape"
   ]
  },
  {
   "cell_type": "code",
   "execution_count": 107,
   "id": "719434b9-74db-474d-92fb-945b958f3276",
   "metadata": {},
   "outputs": [
    {
     "data": {
      "text/plain": [
       "12"
      ]
     },
     "execution_count": 107,
     "metadata": {},
     "output_type": "execute_result"
    }
   ],
   "source": [
    "arr.size"
   ]
  },
  {
   "cell_type": "code",
   "execution_count": 109,
   "id": "4870b068-64ac-4806-89f5-329ec3a77783",
   "metadata": {},
   "outputs": [
    {
     "data": {
      "text/plain": [
       "array([ 1,  2,  3,  4,  5,  6, 12, 13, 10,  1,  5,  2])"
      ]
     },
     "execution_count": 109,
     "metadata": {},
     "output_type": "execute_result"
    }
   ],
   "source": [
    "arr.flatten()"
   ]
  },
  {
   "cell_type": "code",
   "execution_count": 111,
   "id": "650b5c8d-a06b-4300-a019-69174482bdf5",
   "metadata": {},
   "outputs": [
    {
     "data": {
      "text/plain": [
       "array([[ 1,  2,  3],\n",
       "       [ 4,  5,  6],\n",
       "       [12, 13, 10],\n",
       "       [ 1,  5,  2]])"
      ]
     },
     "execution_count": 111,
     "metadata": {},
     "output_type": "execute_result"
    }
   ],
   "source": [
    "arr"
   ]
  },
  {
   "cell_type": "code",
   "execution_count": 113,
   "id": "48a2fa02-5f04-4d4d-a3bd-3a243f104f3e",
   "metadata": {},
   "outputs": [
    {
     "data": {
      "text/plain": [
       "array([[ 5,  6],\n",
       "       [13, 10],\n",
       "       [ 5,  2]])"
      ]
     },
     "execution_count": 113,
     "metadata": {},
     "output_type": "execute_result"
    }
   ],
   "source": [
    "arr[1:, 1:]"
   ]
  },
  {
   "cell_type": "code",
   "execution_count": 115,
   "id": "4c56fdcd-b533-4e04-b375-cc13dae9f715",
   "metadata": {},
   "outputs": [
    {
     "data": {
      "text/plain": [
       "2"
      ]
     },
     "execution_count": 115,
     "metadata": {},
     "output_type": "execute_result"
    }
   ],
   "source": [
    "arr[3, 2]"
   ]
  },
  {
   "cell_type": "code",
   "execution_count": 117,
   "id": "632d80d3-4a6a-46a7-8281-db8d6bcdf6ce",
   "metadata": {},
   "outputs": [
    {
     "data": {
      "text/plain": [
       "array([[ 4,  6],\n",
       "       [12, 10]])"
      ]
     },
     "execution_count": 117,
     "metadata": {},
     "output_type": "execute_result"
    }
   ],
   "source": [
    "arr[1:3, [0, 2]]"
   ]
  },
  {
   "cell_type": "code",
   "execution_count": 119,
   "id": "28a06578-ac3b-4388-86a0-245951ee4cab",
   "metadata": {},
   "outputs": [],
   "source": [
    "#"
   ]
  },
  {
   "cell_type": "code",
   "execution_count": 121,
   "id": "618dd587-7e06-4a1f-95ef-6dacaaf73653",
   "metadata": {},
   "outputs": [
    {
     "name": "stdout",
     "output_type": "stream",
     "text": [
      "1\n",
      "2\n",
      "3\n",
      "4\n"
     ]
    }
   ],
   "source": [
    "for i in range(1, 5):\n",
    "    print(i)"
   ]
  },
  {
   "cell_type": "code",
   "execution_count": 123,
   "id": "3d6470c6-d997-4f03-9c18-f5442b93b875",
   "metadata": {},
   "outputs": [
    {
     "name": "stdout",
     "output_type": "stream",
     "text": [
      "1\n",
      "2\n",
      "4\n"
     ]
    }
   ],
   "source": [
    "for i in range(1, 5):\n",
    "    if i == 3:\n",
    "        continue\n",
    "    print(i)"
   ]
  },
  {
   "cell_type": "code",
   "execution_count": 125,
   "id": "670c62bf-f7c2-41a1-83d1-80884fb85a5c",
   "metadata": {},
   "outputs": [],
   "source": [
    "for i in range(1, 5):\n",
    "    pass"
   ]
  },
  {
   "cell_type": "code",
   "execution_count": 127,
   "id": "33290016-6a8b-4ed0-a3eb-bb56e762f123",
   "metadata": {},
   "outputs": [
    {
     "data": {
      "text/plain": [
       "array([[ 1,  2,  3],\n",
       "       [ 4,  5,  6],\n",
       "       [12, 13, 10],\n",
       "       [ 1,  5,  2]])"
      ]
     },
     "execution_count": 127,
     "metadata": {},
     "output_type": "execute_result"
    }
   ],
   "source": [
    "arr"
   ]
  },
  {
   "cell_type": "code",
   "execution_count": 130,
   "id": "30d6670f-8522-46a7-b561-1e8648df8b92",
   "metadata": {},
   "outputs": [
    {
     "data": {
      "text/plain": [
       "array([[ 1,  2,  3,  4],\n",
       "       [ 5,  6, 12, 13],\n",
       "       [10,  1,  5,  2]])"
      ]
     },
     "execution_count": 130,
     "metadata": {},
     "output_type": "execute_result"
    }
   ],
   "source": [
    "arr.reshape(3,4)"
   ]
  },
  {
   "cell_type": "code",
   "execution_count": 132,
   "id": "60d18e38-d1ab-4aa4-ad38-94dea44e7074",
   "metadata": {},
   "outputs": [
    {
     "data": {
      "text/plain": [
       "array([[ 1,  2,  3,  4,  5,  6],\n",
       "       [12, 13, 10,  1,  5,  2]])"
      ]
     },
     "execution_count": 132,
     "metadata": {},
     "output_type": "execute_result"
    }
   ],
   "source": [
    "arr.reshape(2, 6)"
   ]
  },
  {
   "cell_type": "code",
   "execution_count": 134,
   "id": "b9517449-5009-4fe4-8822-ae7c373e50a8",
   "metadata": {},
   "outputs": [
    {
     "data": {
      "text/plain": [
       "array([[ 1,  2,  3,  4,  5,  6],\n",
       "       [12, 13, 10,  1,  5,  2]])"
      ]
     },
     "execution_count": 134,
     "metadata": {},
     "output_type": "execute_result"
    }
   ],
   "source": [
    "arr.reshape(2, -1)"
   ]
  },
  {
   "cell_type": "code",
   "execution_count": 136,
   "id": "aba07f1e-41c2-4589-a9a6-87d6494c1dad",
   "metadata": {},
   "outputs": [
    {
     "data": {
      "text/plain": [
       "array([[[ 1,  2],\n",
       "        [ 3,  4]],\n",
       "\n",
       "       [[ 5,  6],\n",
       "        [12, 13]],\n",
       "\n",
       "       [[10,  1],\n",
       "        [ 5,  2]]])"
      ]
     },
     "execution_count": 136,
     "metadata": {},
     "output_type": "execute_result"
    }
   ],
   "source": [
    "arr.reshape(3, 2, 2)"
   ]
  },
  {
   "cell_type": "code",
   "execution_count": 138,
   "id": "c1f64163-5479-4671-9994-336959db9116",
   "metadata": {},
   "outputs": [
    {
     "data": {
      "text/plain": [
       "3"
      ]
     },
     "execution_count": 138,
     "metadata": {},
     "output_type": "execute_result"
    }
   ],
   "source": [
    "arr.reshape(3, 2, 2).ndim"
   ]
  },
  {
   "cell_type": "code",
   "execution_count": 140,
   "id": "730d6313-e91c-4b9b-b52e-7e8728370664",
   "metadata": {},
   "outputs": [
    {
     "data": {
      "text/plain": [
       "array([[[ 1,  2],\n",
       "        [ 3,  4]],\n",
       "\n",
       "       [[ 5,  6],\n",
       "        [12, 13]],\n",
       "\n",
       "       [[10,  1],\n",
       "        [ 5,  2]]])"
      ]
     },
     "execution_count": 140,
     "metadata": {},
     "output_type": "execute_result"
    }
   ],
   "source": [
    "arr.reshape(3, 2, -1)"
   ]
  },
  {
   "cell_type": "code",
   "execution_count": 142,
   "id": "af2e453f-23dc-464d-bc08-2201474fd684",
   "metadata": {},
   "outputs": [
    {
     "data": {
      "text/plain": [
       "array([[[ 1],\n",
       "        [ 2],\n",
       "        [ 3]],\n",
       "\n",
       "       [[ 4],\n",
       "        [ 5],\n",
       "        [ 6]],\n",
       "\n",
       "       [[12],\n",
       "        [13],\n",
       "        [10]],\n",
       "\n",
       "       [[ 1],\n",
       "        [ 5],\n",
       "        [ 2]]])"
      ]
     },
     "execution_count": 142,
     "metadata": {},
     "output_type": "execute_result"
    }
   ],
   "source": [
    "arr.reshape(4, 3, -1)"
   ]
  },
  {
   "cell_type": "code",
   "execution_count": 144,
   "id": "0e7cd947-616b-4019-9d73-068a90cf5c08",
   "metadata": {},
   "outputs": [],
   "source": [
    "arr1 = np.array([[1, 2, 3], [4, 5, 6], [12, 13, 10]])\n",
    "arr2 = np.array([[1, 10, 3], [4, 15, 5], [10, 13, 10]])"
   ]
  },
  {
   "cell_type": "code",
   "execution_count": 146,
   "id": "95899715-a3d1-4649-82cf-a99a39a4c508",
   "metadata": {},
   "outputs": [
    {
     "data": {
      "text/plain": [
       "array([[ 39,  79,  43],\n",
       "       [ 84, 193,  97],\n",
       "       [164, 445, 201]])"
      ]
     },
     "execution_count": 146,
     "metadata": {},
     "output_type": "execute_result"
    }
   ],
   "source": [
    "arr1 @ arr2"
   ]
  },
  {
   "cell_type": "code",
   "execution_count": 148,
   "id": "eab853ad-165e-4d83-98ea-3b9d4a90a815",
   "metadata": {},
   "outputs": [
    {
     "data": {
      "text/plain": [
       "array([[ 39,  79,  43],\n",
       "       [ 84, 193,  97],\n",
       "       [164, 445, 201]])"
      ]
     },
     "execution_count": 148,
     "metadata": {},
     "output_type": "execute_result"
    }
   ],
   "source": [
    "np.dot(arr1, arr2)"
   ]
  },
  {
   "cell_type": "code",
   "execution_count": 150,
   "id": "0988d13c-c383-45ff-8066-b8d8ccdc6a01",
   "metadata": {},
   "outputs": [
    {
     "data": {
      "text/plain": [
       "12.0"
      ]
     },
     "execution_count": 150,
     "metadata": {},
     "output_type": "execute_result"
    }
   ],
   "source": [
    "np.linalg.det(arr1)"
   ]
  },
  {
   "cell_type": "code",
   "execution_count": 154,
   "id": "e3a8295a-c9ed-4a98-aff5-0fba1e609029",
   "metadata": {},
   "outputs": [
    {
     "data": {
      "text/plain": [
       "array([[-2.33333333,  1.58333333, -0.25      ],\n",
       "       [ 2.66666667, -2.16666667,  0.5       ],\n",
       "       [-0.66666667,  0.91666667, -0.25      ]])"
      ]
     },
     "execution_count": 154,
     "metadata": {},
     "output_type": "execute_result"
    }
   ],
   "source": [
    "np.linalg.inv(arr1)"
   ]
  },
  {
   "cell_type": "code",
   "execution_count": 156,
   "id": "5566142f-f02c-4786-b01d-e00fd4039463",
   "metadata": {},
   "outputs": [
    {
     "data": {
      "text/plain": [
       "EigResult(eigenvalues=array([19.02862769, -0.2249273 , -2.80370039]), eigenvectors=array([[-0.19446948, -0.59857427, -0.42601189],\n",
       "       [-0.43208577,  0.75749569, -0.40402646],\n",
       "       [-0.88061542, -0.2605938 ,  0.8094915 ]]))"
      ]
     },
     "execution_count": 156,
     "metadata": {},
     "output_type": "execute_result"
    }
   ],
   "source": [
    "np.linalg.eig(arr1)"
   ]
  },
  {
   "cell_type": "code",
   "execution_count": null,
   "id": "c5636d4f-56be-4fbc-bf16-d6d4e1a6d8f0",
   "metadata": {},
   "outputs": [],
   "source": []
  }
 ],
 "metadata": {
  "kernelspec": {
   "display_name": "Python 3 (ipykernel)",
   "language": "python",
   "name": "python3"
  },
  "language_info": {
   "codemirror_mode": {
    "name": "ipython",
    "version": 3
   },
   "file_extension": ".py",
   "mimetype": "text/x-python",
   "name": "python",
   "nbconvert_exporter": "python",
   "pygments_lexer": "ipython3",
   "version": "3.12.4"
  }
 },
 "nbformat": 4,
 "nbformat_minor": 5
}
